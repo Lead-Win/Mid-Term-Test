{
 "cells": [
  {
   "cell_type": "markdown",
   "id": "2db9bf07-efa7-4249-8f83-68c3b203f2fc",
   "metadata": {},
   "source": [
    "MID-TERM TEST"
   ]
  },
  {
   "cell_type": "markdown",
   "id": "aa660321-0e7e-4fd1-9ce2-a7ab465865cc",
   "metadata": {},
   "source": [
    "QUESTION 21\n",
    "\n",
    "_int()__: Constructor that takes as input a pair of Point objects that represent the ends points of the line segment\r\n",
    "\r\n",
    "Length():: returns the length if the segment \r\n",
    "\r\n",
    "Slope() returns the slope of the segment of none if the slope is unbounded "
   ]
  },
  {
   "cell_type": "code",
   "execution_count": 42,
   "id": "27548e40-88d9-4544-836f-5ad3041e40f7",
   "metadata": {},
   "outputs": [
    {
     "name": "stdout",
     "output_type": "stream",
     "text": [
      "length of linesegment: 5.0\n",
      "slope of linesegment: 1.3333333333333333\n"
     ]
    }
   ],
   "source": [
    "import math\n",
    "class Point:\n",
    "    def __init__(self, xcoord=0, ycoord=0):\n",
    "        self.a = xcoord\n",
    "        self.b = ycoord\n",
    "\n",
    "class LineSegment:\n",
    "    def __init__ (self, point_1, point_2):\n",
    "        self.p_1 = point_1\n",
    "        self.p_2 = point_2\n",
    "    def length(self):\n",
    "        return math.sqrt((self.p_2.a - self.p_1.a) ** 2 + (self.p_2.b - self.p_1.b) ** 2)\n",
    "\n",
    "    def slope (self):\n",
    "\n",
    "        if self.p_2.a - self.p_1.a == 0:\n",
    "            return None\n",
    "        return (self.p_2.b - self.p_1.b) / (self.p_2.a - self.p_1.a)\n",
    "p_1 = Point(3, 4)\n",
    "p_2 = Point(0,0)\n",
    "segment = LineSegment (p_1, p_2)\n",
    "\n",
    "\n",
    "print (\"length of linesegment:\", segment.length())\n",
    "print (\"slope of linesegment:\", segment.slope())"
   ]
  },
  {
   "cell_type": "code",
   "execution_count": null,
   "id": "8cac1d43-95bb-4a89-a435-45583fa44a96",
   "metadata": {},
   "outputs": [],
   "source": []
  }
 ],
 "metadata": {
  "kernelspec": {
   "display_name": "Python 3 (ipykernel)",
   "language": "python",
   "name": "python3"
  },
  "language_info": {
   "codemirror_mode": {
    "name": "ipython",
    "version": 3
   },
   "file_extension": ".py",
   "mimetype": "text/x-python",
   "name": "python",
   "nbconvert_exporter": "python",
   "pygments_lexer": "ipython3",
   "version": "3.12.4"
  }
 },
 "nbformat": 4,
 "nbformat_minor": 5
}
