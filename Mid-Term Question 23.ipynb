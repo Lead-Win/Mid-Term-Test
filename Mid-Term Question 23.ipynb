{
 "cells": [
  {
   "cell_type": "markdown",
   "id": "356810c5-c126-4e0b-88a5-840147fb9000",
   "metadata": {},
   "source": [
    "Mid-Trem"
   ]
  },
  {
   "cell_type": "markdown",
   "execution_count": null,
   "id": "8e901410-acc8-4cc9-9866-cc4ddbc1bf8f",
   "metadata": {},
   "outputs": [],
   "source": [
    "Question 23"
   ]
  },
  {
   "cell_type": "code",
   "execution_count": 3,
   "id": "a55fe465-32aa-444b-a435-349ea7d89ded",
   "metadata": {},
   "outputs": [
    {
     "name": "stdout",
     "output_type": "stream",
     "text": [
      ">>> tough(0,0)\n",
      "\n",
      ">>> tough(0,1)\n",
      "*\n",
      "*\n",
      "\n",
      ">>> tough(0,2)\n",
      "**\n",
      " *\n",
      " *\n",
      "**\n",
      "\n",
      ">>> tough(0,4)\n",
      "****\n",
      " ***\n",
      "  **\n",
      "   *\n",
      "   *\n",
      "  **\n",
      " ***\n",
      "****\n"
     ]
    }
   ],
   "source": [
    "def tough(indent, n):\n",
    "    '''Recursive function to print a pattern. The first argument 'indent' controls the indentation.\n",
    "    The second argument 'n' controls the maximum number of stars in a line.\n",
    "    '''\n",
    "    if n == 0:\n",
    "        return\n",
    "    print(' ' * indent + '*' * n)\n",
    "    tough(indent + 1, n - 1)\n",
    "    print(' ' * indent + '*' * n)\n",
    "\n",
    "print(\">>> tough(0,0)\")\n",
    "tough(0, 0)\n",
    "\n",
    "print(\"\\n>>> tough(0,1)\")\n",
    "tough(0, 1)\n",
    "\n",
    "print(\"\\n>>> tough(0,2)\")\n",
    "tough(0, 2)\n",
    "\n",
    "print(\"\\n>>> tough(0,4)\")\n",
    "tough(0, 4)\n"
   ]
  },
  {
   "cell_type": "code",
   "execution_count": null,
   "id": "e55fb25a-ba79-41ea-a966-2666ae27c314",
   "metadata": {},
   "outputs": [],
   "source": []
  }
 ],
 "metadata": {
  "kernelspec": {
   "display_name": "Python 3 (ipykernel)",
   "language": "python",
   "name": "python3"
  },
  "language_info": {
   "codemirror_mode": {
    "name": "ipython",
    "version": 3
   },
   "file_extension": ".py",
   "mimetype": "text/x-python",
   "name": "python",
   "nbconvert_exporter": "python",
   "pygments_lexer": "ipython3",
   "version": "3.12.4"
  }
 },
 "nbformat": 4,
 "nbformat_minor": 5
}
