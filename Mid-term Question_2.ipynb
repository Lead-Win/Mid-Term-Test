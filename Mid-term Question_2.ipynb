{
 "cells": [
  {
   "cell_type": "code",
   "execution_count": null,
   "id": "fba94ef5-d429-409c-b025-c7e03af702a4",
   "metadata": {},
   "outputs": [],
   "source": [
    "Mid-Term "
   ]
  },
  {
   "cell_type": "markdown",
   "id": "4babbe07-ed98-444a-8ca3-175c76c1f56b",
   "metadata": {},
   "source": [
    "Question 2"
   ]
  },
  {
   "cell_type": "code",
   "execution_count": 52,
   "id": "e62991e8-1b8b-4521-ba81-a1a7a64934ff",
   "metadata": {},
   "outputs": [
    {
     "name": "stdout",
     "output_type": "stream",
     "text": [
      "[(2,), (4,)]\n"
     ]
    }
   ],
   "source": [
    "import sqlite3\n",
    "\n",
    "conn = sqlite3.connect(':memory:')\n",
    "cursor = conn.cursor()\n",
    "\n",
    "\n",
    "cursor.execute('''\n",
    "CREATE TABLE Weather (\n",
    "    id INTEGER PRIMARY KEY,\n",
    "    recordDate DATE,\n",
    "    temperature INTEGER\n",
    ")\n",
    "''')\n",
    "\n",
    "data = [\n",
    "    (1, '2015-01-01', 10),\n",
    "    (2, '2015-01-02', 25),\n",
    "    (3, '2015-01-03', 20),\n",
    "    (4, '2015-01-04', 30)\n",
    "]\n",
    "cursor.executemany('INSERT INTO Weather VALUES (?, ?, ?)', data)\n",
    "conn.commit()\n",
    "\n",
    "query = '''\n",
    "SELECT w1.id\n",
    "FROM Weather w1\n",
    "JOIN Weather w2 ON w1.recordDate = DATE(w2.recordDate, '+1 day')\n",
    "WHERE w1.temperature > w2.temperature\n",
    "'''\n",
    "\n",
    "cursor.execute(query)\n",
    "results = cursor.fetchall()\n",
    "print(results)  \n",
    "conn.close()\n"
   ]
  },
  {
   "cell_type": "code",
   "execution_count": null,
   "id": "c9c2abf8-90b0-4c67-b01a-de02f8714f4a",
   "metadata": {},
   "outputs": [],
   "source": []
  }
 ],
 "metadata": {
  "kernelspec": {
   "display_name": "Python 3 (ipykernel)",
   "language": "python",
   "name": "python3"
  },
  "language_info": {
   "codemirror_mode": {
    "name": "ipython",
    "version": 3
   },
   "file_extension": ".py",
   "mimetype": "text/x-python",
   "name": "python",
   "nbconvert_exporter": "python",
   "pygments_lexer": "ipython3",
   "version": "3.12.4"
  }
 },
 "nbformat": 4,
 "nbformat_minor": 5
}
